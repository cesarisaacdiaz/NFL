{
 "cells": [
  {
   "cell_type": "code",
   "execution_count": 1,
   "metadata": {},
   "outputs": [],
   "source": [
    "#Script for cleaning draft.csv file inside reosurces folder\n",
    "#Developed by Cuitlahuac Daniel Maldonado Ruiz\n",
    "\n",
    "#Importing dependencies\n",
    "import os\n",
    "import pandas as pd\n",
    "import numpy as np"
   ]
  },
  {
   "cell_type": "code",
   "execution_count": 2,
   "metadata": {},
   "outputs": [],
   "source": [
    "#Files path\n",
    "inputFile = os.path.join(\"..\",\"..\", \"Resources\", \"draft.csv\")\n",
    "outputFile = os.path.join(\"..\", \"Clean_Data\", \"draft.csv\")"
   ]
  },
  {
   "cell_type": "code",
   "execution_count": 3,
   "metadata": {},
   "outputs": [],
   "source": [
    "#Reading csv file into dataframe\n",
    "draft_df = pd.read_csv(inputFile)\n",
    "\n",
    "#Narrowing dataframe for players draft >= 2010\n",
    "# draft_df = draft_df.loc[draft_df[\"draft\"] >= 2010]\n",
    "# draft_df"
   ]
  },
  {
   "cell_type": "code",
   "execution_count": 4,
   "metadata": {},
   "outputs": [
    {
     "data": {
      "text/html": [
       "<div>\n",
       "<style scoped>\n",
       "    .dataframe tbody tr th:only-of-type {\n",
       "        vertical-align: middle;\n",
       "    }\n",
       "\n",
       "    .dataframe tbody tr th {\n",
       "        vertical-align: top;\n",
       "    }\n",
       "\n",
       "    .dataframe thead th {\n",
       "        text-align: right;\n",
       "    }\n",
       "</style>\n",
       "<table border=\"1\" class=\"dataframe\">\n",
       "  <thead>\n",
       "    <tr style=\"text-align: right;\">\n",
       "      <th></th>\n",
       "      <th>playerId</th>\n",
       "      <th>teamId</th>\n",
       "      <th>draftTradeValue</th>\n",
       "    </tr>\n",
       "  </thead>\n",
       "  <tbody>\n",
       "    <tr>\n",
       "      <td>0</td>\n",
       "      <td>19770001</td>\n",
       "      <td>4900</td>\n",
       "      <td>3000.00</td>\n",
       "    </tr>\n",
       "    <tr>\n",
       "      <td>1</td>\n",
       "      <td>19770002</td>\n",
       "      <td>1200</td>\n",
       "      <td>2600.00</td>\n",
       "    </tr>\n",
       "    <tr>\n",
       "      <td>2</td>\n",
       "      <td>19770003</td>\n",
       "      <td>920</td>\n",
       "      <td>2200.00</td>\n",
       "    </tr>\n",
       "    <tr>\n",
       "      <td>3</td>\n",
       "      <td>19770004</td>\n",
       "      <td>3430</td>\n",
       "      <td>1800.00</td>\n",
       "    </tr>\n",
       "    <tr>\n",
       "      <td>4</td>\n",
       "      <td>19770005</td>\n",
       "      <td>3410</td>\n",
       "      <td>1700.00</td>\n",
       "    </tr>\n",
       "    <tr>\n",
       "      <td>...</td>\n",
       "      <td>...</td>\n",
       "      <td>...</td>\n",
       "      <td>...</td>\n",
       "    </tr>\n",
       "    <tr>\n",
       "      <td>12135</td>\n",
       "      <td>20190250</td>\n",
       "      <td>3000</td>\n",
       "      <td>0.96</td>\n",
       "    </tr>\n",
       "    <tr>\n",
       "      <td>12136</td>\n",
       "      <td>20190251</td>\n",
       "      <td>2520</td>\n",
       "      <td>0.92</td>\n",
       "    </tr>\n",
       "    <tr>\n",
       "      <td>12137</td>\n",
       "      <td>20190252</td>\n",
       "      <td>3200</td>\n",
       "      <td>0.88</td>\n",
       "    </tr>\n",
       "    <tr>\n",
       "      <td>12138</td>\n",
       "      <td>20190253</td>\n",
       "      <td>5110</td>\n",
       "      <td>0.84</td>\n",
       "    </tr>\n",
       "    <tr>\n",
       "      <td>12139</td>\n",
       "      <td>20190254</td>\n",
       "      <td>3800</td>\n",
       "      <td>0.80</td>\n",
       "    </tr>\n",
       "  </tbody>\n",
       "</table>\n",
       "<p>12140 rows × 3 columns</p>\n",
       "</div>"
      ],
      "text/plain": [
       "       playerId  teamId  draftTradeValue\n",
       "0      19770001    4900          3000.00\n",
       "1      19770002    1200          2600.00\n",
       "2      19770003     920          2200.00\n",
       "3      19770004    3430          1800.00\n",
       "4      19770005    3410          1700.00\n",
       "...         ...     ...              ...\n",
       "12135  20190250    3000             0.96\n",
       "12136  20190251    2520             0.92\n",
       "12137  20190252    3200             0.88\n",
       "12138  20190253    5110             0.84\n",
       "12139  20190254    3800             0.80\n",
       "\n",
       "[12140 rows x 3 columns]"
      ]
     },
     "execution_count": 4,
     "metadata": {},
     "output_type": "execute_result"
    }
   ],
   "source": [
    "#Creating a new dataframe only with needed columns\n",
    "draft_df = draft_df[[\"playerId\", \"teamId\", \"draftTradeValue\"]]\n",
    "draft_df\n",
    "\n",
    "#Cleaning blank and NaN data\n",
    "narrowed_df = draft_df.replace(r'^\\s*$', np.NaN, regex=True)\n",
    "narrowed_df.dropna(how=\"any\", inplace=True)\n",
    "narrowed_df"
   ]
  },
  {
   "cell_type": "code",
   "execution_count": 5,
   "metadata": {},
   "outputs": [],
   "source": [
    "#Wrtiting new csv file with cleaned and narrowed data\n",
    "narrowed_df.to_csv(outputFile, index=False, header=True)"
   ]
  }
 ],
 "metadata": {
  "kernelspec": {
   "display_name": "Python 3",
   "language": "python",
   "name": "python3"
  },
  "language_info": {
   "codemirror_mode": {
    "name": "ipython",
    "version": 3
   },
   "file_extension": ".py",
   "mimetype": "text/x-python",
   "name": "python",
   "nbconvert_exporter": "python",
   "pygments_lexer": "ipython3",
   "version": "3.7.4"
  }
 },
 "nbformat": 4,
 "nbformat_minor": 2
}
